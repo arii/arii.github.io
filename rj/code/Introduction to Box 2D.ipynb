{
 "cells": [
  {
   "cell_type": "markdown",
   "metadata": {},
   "source": [
    "# Robot Juggling\n",
    "\n",
    "\n",
    "In this assignment you will learn how to control a robot to juggle a ball. To achieve this goal, you will program a velocity controlled robot, such that it causes the ball to bounce with some desired periodic motion. Specifically, you will implement a hybrid controller that uses a *mirror control law* within the framework of Box 2D, a 2D physics simulator. \n",
    "\n",
    "This assignment will be broken into the following components:\n",
    "\n",
    "1. Robot Juggling Demo\n",
    "\n",
    "    a. Box 2D Simulator\n",
    "       \n",
    "2. PD-Control of a robot\n",
    "\n",
    "    a. Reference and Error signals\n",
    "    \n",
    "    b. Implementing P-controller\n",
    "    \n",
    "    c. Implementing a PD-controller\n",
    "    \n",
    "3. Robot Juggling\n",
    "\n",
    "    a. Ball Dynamics (projectile)\n",
    "    \n",
    "    b. Ball dynamics with collision \n",
    "    \n",
    "    c. Mirror control law\n"
   ]
  },
  {
   "cell_type": "markdown",
   "metadata": {},
   "source": [
    "# Robot Juggling Demo\n",
    "\n",
    "The following code will run the instructor's solution of the juggling demo.  Try not to look at the instructor's code until after completing the assignment!\n",
    "\n",
    "To run the code, first hit the cell below.  Then hit the play button from the toolbar.\n",
    "<img src=\"media/play.png\" width=\"70%\"/>\n"
   ]
  },
  {
   "cell_type": "code",
   "execution_count": null,
   "metadata": {
    "scrolled": true
   },
   "outputs": [],
   "source": [
    "from tutorial import * \n",
    "play_full_solution()"
   ]
  },
  {
   "cell_type": "markdown",
   "metadata": {},
   "source": [
    "If a window pops up like this picture then you have successfully run the demo. \n",
    "\n",
    "<img width=\"50%\" src=\"media/robo_juggle.gif\"/>\n",
    "\n",
    "So what exactly are you looking at? As mentioned previously we are simulating the physics using Box2D.  \n",
    "However, the window that popped up is merely a visulazation of the simulator that uses pygame.  Pygame is a software package used to create games in python. It allows the use of keyboard and mouse input. For example, if you hit 'q' or 'esc' the window should close.  *Note: in OS X the window may not close, however the simulation will stop.*\n",
    "\n",
    "\n",
    "The visulazation is showing an instance of robot juggling.  \n",
    "* The **robot** is a dark rectangular paddle.  \n",
    "* The **ball** is a magenta circle bouncing up and down\n",
    "* The yellow and red horizontal bars show the desired heights.\n",
    "    * The upper yellow bar shows the desired peak height of the ball\n",
    "    * The lower red bar shows the desired impact location for the ball and the paddle.  \n",
    "* The ground is the green rectangle. It is a static object.  Ideally your ball will never touch the ground!\n",
    "\n",
    "### Reference frames\n",
    "\n",
    "All of the objects has a local reference frame located in the center of its body. \n",
    "\n",
    "Our fixed frame is an interial reference frame with $\\hat{x}$ increasing to the right and $\\hat{y}$ increasing upwards.  <!--The origin is located in the bottom left corner.-->\n",
    "\n",
    "\n",
    "\n",
    "### Simulation\n",
    "\n",
    "All of the objects listed above are *rigid bodies* that (approximately) obey the laws of physics $\\vec{F} = m \\vec{a}$.  By definition, rigid bodies are not able to penetrate one another.  \n",
    "\n",
    "For every discrete time step, Box2D will attempt to tell us the state (position, velocity, and acceleration) of each body in our domain.  During the time step, Box2D will integrate the state of the objects (based on the forces applied).  Then, if the state of the objects  are in conflict (e.g: overlapping geometry) it will try to resolve the penetration error.  The following article goes into more depth about the simulation.  \n",
    "\n",
    "For our purpose, it's important to know that the physics simulator will approximate the state of the world and can have errors in numerical accuracy.  \n",
    "\n",
    "\n",
    "--------------------------------------------------------------\n"
   ]
  }
 ],
 "metadata": {
  "kernelspec": {
   "display_name": "Python 2",
   "language": "python",
   "name": "python2"
  },
  "language_info": {
   "codemirror_mode": {
    "name": "ipython",
    "version": 2
   },
   "file_extension": ".py",
   "mimetype": "text/x-python",
   "name": "python",
   "nbconvert_exporter": "python",
   "pygments_lexer": "ipython2",
   "version": "2.7.13"
  }
 },
 "nbformat": 4,
 "nbformat_minor": 2
}
