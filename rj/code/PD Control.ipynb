{
 "cells": [
  {
   "cell_type": "markdown",
   "metadata": {},
   "source": [
    "# PD- Control of a robot\n",
    "\n",
    "In this section you will control the paddle to move to a desired location.  The robot is force controlled.  This means that for every time step, you can specify an applied force to the robot's center of mass.  Additionally you can specify the an applied angular torque.\n",
    "\n",
    "The goal is to program the robot to move to a desired location specified by $\\vec{x}^* = (x,y,\\theta)$ by specifing the velocity at each time step.  \n",
    "\n",
    "We will break this into a few steps.\n",
    "1. Running the simulation and accessing the robot state information\n",
    "2. Open loop control of the robot\n",
    "3. Feedback control of the robot\n",
    "\n",
    "-----\n",
    "\n",
    "The following code shows the instructor solution for a simple PD controller. You can modify the initial position and desired position/velocity of the robot to see how it works.\n"
   ]
  },
  {
   "cell_type": "code",
   "execution_count": null,
   "metadata": {},
   "outputs": [],
   "source": [
    "import tutorial; from tutorial import *\n",
    "\n",
    "\n",
    "initial_pose = (16, 12,0.0)\n",
    "desired_pose = (16, 16,3.14/2.)\n",
    "desired_vel = (0, 0, 0)\n",
    "\n",
    "play_pd_control_solution(initial_pose, \\\n",
    "            desired_pose, desired_vel)"
   ]
  },
  {
   "cell_type": "markdown",
   "metadata": {},
   "source": [
    "### PD Control Part 1: Running the simulation and accessing the robot state information\n",
    "\n",
    "The following code will show a simple example of running the simulator\n",
    "\n",
    "You should see the robot (paddle) start in the middle of the screen and fall down due to gravity.\n",
    "\n",
    "Try changing the robot's orientation and rerun the simulation."
   ]
  },
  {
   "cell_type": "code",
   "execution_count": null,
   "metadata": {
    "scrolled": true
   },
   "outputs": [],
   "source": [
    "import tutorial; from tutorial import *\n",
    "\n",
    "initial_pose = (16, 12, 3.14/2.)\n",
    "result = run_pd_control(initial_pose, controller=None)"
   ]
  },
  {
   "cell_type": "markdown",
   "metadata": {},
   "source": [
    "Let's rerun our simulation and plot the state of the robot over time.  \n"
   ]
  },
  {
   "cell_type": "code",
   "execution_count": null,
   "metadata": {
    "scrolled": false
   },
   "outputs": [],
   "source": [
    "import tutorial; reload(tutorial); from tutorial import *\n",
    "    \n",
    "initial_pose = (16, 12, 3.14/2.)\n",
    "result = run_pd_control(initial_pose, controller=None)\n",
    "plot(result, \"Robot\")\n"
   ]
  },
  {
   "cell_type": "markdown",
   "metadata": {},
   "source": [
    "### PD Control Part 2:Open loop control of the robot\n",
    "\n",
    "Now we are going to move our robot using open loop control.  We can apply a force to the center of mass in the x or y direction, and an angular torque about the center of mass. \n",
    "\n",
    "One of the inputs to the `run_pd_control` is currently set to None.  In this example we are going to show how to write a controller that gets run at every time step.\n",
    "\n",
    "The output of the controller is $u_x, u_y, u_th$, which is the amount of force applied in the x direction, in the y direction, and angular torque applied.  The force is applied to the robot's center of mass.\n"
   ]
  },
  {
   "cell_type": "code",
   "execution_count": null,
   "metadata": {
    "scrolled": true
   },
   "outputs": [],
   "source": [
    "import tutorial; reload(tutorial); from tutorial import *\n",
    "    \n",
    "initial_pose = (16, 12, 3.14/2.)\n",
    "\n",
    "def openLoopController (time, robot_state):\n",
    "    u_x = 1.0\n",
    "    u_y = 0\n",
    "    u_th = 0\n",
    "    return u_x, u_y, u_th\n",
    "\n",
    "result = run_pd_control(initial_pose, openLoopController)\n",
    "plot(result, \"Robot\")\n"
   ]
  },
  {
   "cell_type": "markdown",
   "metadata": {},
   "source": [
    "Suppose we want to move our robot up 4 meters to position (16, 16) from position (16, 12) using our open loop control function.  What forces should we apply and for how long?  The mass of the robot is 2 kg.\n",
    "\n",
    "Assuming we apply a constant force $u_y$, the dynamics of the system will be:\n",
    "$$ y(t) = y_0 + \\frac{1}{2}(\\frac{u_y}{m} - 9.81)t^2 $$\n",
    "\n",
    "If we assume the force will be applied for 2 seconds only, we can find what constant force to apply:\n",
    "\n",
    "$$ 16  =  12 + \\frac{1}{2}(\\frac{u_y}{m} - 9.81)2^2 $$\n",
    "$$ u_y = 23.62 $$\n",
    "\n",
    "    \n",
    "Program the robot to move to position (16, 15) using open loop commands.  How close can you get?\n"
   ]
  },
  {
   "cell_type": "code",
   "execution_count": null,
   "metadata": {
    "scrolled": true
   },
   "outputs": [],
   "source": [
    "import tutorial; reload(tutorial); from tutorial import *\n",
    "    \n",
    "initial_pose = (16, 12,0.0)\n",
    "\n",
    "\n",
    "constant_force = 23.62\n",
    "time_applied = 2\n",
    "\n",
    "def openLoopController (time, robot_state):\n",
    "    \n",
    "    u_x = 0\n",
    "    u_y = 0\n",
    "    u_th = 0\n",
    "    \n",
    "    # only apply force for time < time_applied\n",
    "    if time < time_applied:\n",
    "        u_y = constant_force\n",
    "        \n",
    "    # when the robot is near time_applied print the current y value\n",
    "    if abs(time-time_applied) < 0.1:\n",
    "        print \"Time: %.2f, Height: %.2f \" % (time,  robot_state[1])\n",
    "    return u_x, u_y, u_th\n",
    "\n",
    "result = run_pd_control(initial_pose, openLoopController)\n",
    "plot(result, \"Robot\")"
   ]
  },
  {
   "cell_type": "markdown",
   "metadata": {},
   "source": [
    "### PD Control Part 3:  Feedback control of the robot\n",
    "\n",
    "The open loop controller method we used required a lot of effort on the designers part and won't work very well in practice.  In this case we knew the robot's mass and could perfectly apply a force in the center of motion. \n",
    "\n",
    "An alternative method is to use the current state of the robot to determine what force to apply.  In this next section you are going to implement a position controller.\n",
    "\n",
    "The following is an equation for a position controller:\n",
    "\n",
    "$$u = K_{p}\\cdot(X_{desired} - X_{current})$$\n",
    "\n",
    "* $u$ is the output of our controller\n",
    "* $K_{p}$ is the proportional gain\n",
    "* $X_{desired}$ is the reference signal\n",
    "* $X_{current}$ is the output signal\n",
    "* $(X_{desired} - X_{current})$ is the error signal\n",
    "\n",
    "This controller is going to apply forces in the direction that decreases the error signal. \n",
    "\n",
    "The robot state is given to you as $(x, y, \\theta, \\dot{x}, \\dot{y}, \\dot{th})$.\n"
   ]
  },
  {
   "cell_type": "code",
   "execution_count": null,
   "metadata": {
    "scrolled": true
   },
   "outputs": [],
   "source": [
    "import tutorial; reload(tutorial); from tutorial import *\n",
    "    \n",
    "\n",
    "initial_pose = (16, 12,0.0)\n",
    "desired_pose = (16, 16,0.0)\n",
    "\n",
    "K_px = 10\n",
    "K_py = 10\n",
    "K_pth = 10\n",
    "\n",
    "\n",
    "def closedLoopController (time, robot_state):\n",
    "    \n",
    "    # the output signal\n",
    "    x,y,th, xdot, ydot, thdot = robot_state\n",
    "    \n",
    "    # the reference signal\n",
    "    rx, ry, rth = desired_pose \n",
    "    \n",
    "    # the error signal\n",
    "    e_x = rx - x\n",
    "    e_y = ry - y\n",
    "    e_th = rth - th\n",
    "    \n",
    "    # the controller output\n",
    "    u_x = K_px*e_x\n",
    "    u_y = K_py*e_y\n",
    "    u_th = K_pth*e_th\n",
    "    \n",
    "    return u_x, u_y, u_th \n",
    "\n",
    "result = run_pd_control(initial_pose, closedLoopController)\n",
    "plot(result, \"Robot\")"
   ]
  },
  {
   "cell_type": "markdown",
   "metadata": {},
   "source": [
    "### PD Control Part 3:  Feedback control of the robot (continued)\n",
    "\n",
    "**Activities:**\n",
    "\n",
    "1. Try using different gains.  See if you can observe different system response behavior, such as:\n",
    "\n",
    "    * under damped\n",
    "    * damped\n",
    "    * overdamped\n",
    "\n",
    "2. Improve upon your controller by adding a derivative term.  In this case the reference signal for the derivative terms should be equal to 0. \n",
    "\n",
    "$$u = K_{pose}\\cdot(X_{desired} - X_{current}) + K_{d}\\cdot(\\dot{X}_{desired} - \\dot{X}_{current})$$\n",
    "\n",
    "* $u$ is the output of our controller\n",
    "* $K_{d}$ is the derivitave gain\n",
    "* $\\dot{X}_{desired}$ is the reference signal  (In our case it is equal to 0)\n",
    "\n",
    "\n",
    "    `rxdot, rydot, rthdot = 0,0,0 `"
   ]
  },
  {
   "cell_type": "code",
   "execution_count": null,
   "metadata": {
    "scrolled": true
   },
   "outputs": [],
   "source": [
    "import tutorial; reload(tutorial); from tutorial import *\n",
    "    \n",
    "\n",
    "initial_pose = (16, 12,3.14/2)\n",
    "desired_pose = (3, 16,0.0)\n",
    "desired_vel = (0, 0, 0)\n",
    "\n",
    "K_px = 100\n",
    "K_py = 100\n",
    "K_pth = 10\n",
    "K_dx = 50\n",
    "K_dy = 50\n",
    "K_dth = 20\n",
    "\n",
    "def closedLoopController (time, robot_state):\n",
    "    \n",
    "    # the output signal\n",
    "    x,y,th, xdot, ydot, thdot = robot_state\n",
    "    \n",
    "    # the reference signal\n",
    "    rx, ry, rth = desired_pose \n",
    "    rxdot, rydot, rthdot = desired_vel\n",
    "    \n",
    "    # the error signal\n",
    "    e_x = rx - x\n",
    "    e_y = ry - y\n",
    "    e_th = rth - th\n",
    "\n",
    "    e_xdot = rxdot - xdot\n",
    "    e_ydot = rydot - ydot\n",
    "    e_thdot = rthdot - thdot\n",
    "    \n",
    "    \n",
    "    # the controller output\n",
    "    u_x = K_px*e_x + K_dx*e_xdot\n",
    "    u_y = K_py*e_y + K_dy*e_ydot\n",
    "    u_th = K_pth*e_th + K_dth*e_thdot\n",
    "    \n",
    "    return u_x, u_y, u_th \n",
    "\n",
    "result = run_pd_control(initial_pose, closedLoopController)\n",
    "plot(result, \"Robot\")"
   ]
  }
 ],
 "metadata": {
  "kernelspec": {
   "display_name": "Python 2",
   "language": "python",
   "name": "python2"
  },
  "language_info": {
   "codemirror_mode": {
    "name": "ipython",
    "version": 2
   },
   "file_extension": ".py",
   "mimetype": "text/x-python",
   "name": "python",
   "nbconvert_exporter": "python",
   "pygments_lexer": "ipython2",
   "version": "2.7.13"
  }
 },
 "nbformat": 4,
 "nbformat_minor": 2
}
